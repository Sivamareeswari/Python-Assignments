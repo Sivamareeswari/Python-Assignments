{
 "cells": [
  {
   "cell_type": "code",
   "execution_count": 1,
   "id": "dbbb96ae-ee03-4a67-bbc5-aaec96ac9a64",
   "metadata": {},
   "outputs": [],
   "source": [
    "# Create a class and function, and list out the items in the list"
   ]
  },
  {
   "cell_type": "code",
   "execution_count": 3,
   "id": "2f3dc648-5b74-472e-95bd-77f332ec620d",
   "metadata": {},
   "outputs": [],
   "source": [
    "class SubfieldsInAI():\n",
    "    def Subfields():\n",
    "        print(\"Sub-fields in AI are:\")\n",
    "        print(\"Machine Learning\")\n",
    "        print(\"Neural Networks\")\n",
    "        print(\"Vision\")\n",
    "        print(\"Robotics\")\n",
    "        print(\"Speech Processing\")\n",
    "        print(\"Natural Language Processing\")"
   ]
  },
  {
   "cell_type": "code",
   "execution_count": 5,
   "id": "64df0aa5-919e-4ce1-9bd2-0ea65705ab0e",
   "metadata": {},
   "outputs": [
    {
     "name": "stdout",
     "output_type": "stream",
     "text": [
      "Sub-fields in AI are:\n",
      "Machine Learning\n",
      "Neural Networks\n",
      "Vision\n",
      "Robotics\n",
      "Speech Processing\n",
      "Natural Language Processing\n"
     ]
    }
   ],
   "source": [
    "SubfieldsInAI.Subfields()"
   ]
  },
  {
   "cell_type": "code",
   "execution_count": 11,
   "id": "1994e972-67d1-44ed-afe4-293bf44e07f1",
   "metadata": {},
   "outputs": [],
   "source": [
    "# Create a function that checks whether the given number is Odd or Even\n",
    "class OddEven():\n",
    "    def OddEven():\n",
    "        num=int(input(\"Enter a number:\"))\n",
    "        if(num%2==1):\n",
    "            print(num,\"Odd number\")\n",
    "        else:\n",
    "            print(num,\"is Even number\")"
   ]
  },
  {
   "cell_type": "code",
   "execution_count": 17,
   "id": "4bfc45f8-673f-4f2d-80d2-8a00b3bb8f98",
   "metadata": {},
   "outputs": [
    {
     "name": "stdin",
     "output_type": "stream",
     "text": [
      "Enter a number: 52452\n"
     ]
    },
    {
     "name": "stdout",
     "output_type": "stream",
     "text": [
      "52452 is Even number\n"
     ]
    }
   ],
   "source": [
    "OddEven.OddEven()"
   ]
  },
  {
   "cell_type": "code",
   "execution_count": 21,
   "id": "02cb6e0e-1ff8-4fc8-8ec0-8bb786092167",
   "metadata": {},
   "outputs": [],
   "source": [
    "# Create a function that tells elegibility of marriage for male and female according to thei\n",
    "#r age limit like 21 for male and 18 for female"
   ]
  },
  {
   "cell_type": "code",
   "execution_count": 56,
   "id": "6dc2b7ce-e285-463a-8455-f7a84d923574",
   "metadata": {},
   "outputs": [],
   "source": [
    "class EligiblityForMarriage():\n",
    "    def Eligible():\n",
    "        gender=input(\"Your Gender(male/female):\")\n",
    "        age=int(input(\"your Age:\"))\n",
    "        if(gender =='male'):\n",
    "            if(age>=21):\n",
    "                print(\"ELIGIBLE\")\n",
    "            else:\n",
    "                print(\"NOT ELIGIBLE\")\n",
    "        elif (gender =='female'):\n",
    "            if(age>=18):\n",
    "                print(\"ELIGIBLE\")\n",
    "            else:\n",
    "                print(\"NOT ELIGIBLE\")\n",
    "            "
   ]
  },
  {
   "cell_type": "code",
   "execution_count": 60,
   "id": "be964ebe-457c-46ce-af98-d333ecb4bc3a",
   "metadata": {},
   "outputs": [
    {
     "name": "stdin",
     "output_type": "stream",
     "text": [
      "Your Gender(male/female): female\n",
      "your Age: 18\n"
     ]
    },
    {
     "name": "stdout",
     "output_type": "stream",
     "text": [
      "ELIGIBLE\n"
     ]
    }
   ],
   "source": [
    "EligiblityForMarriage.Eligible()"
   ]
  },
  {
   "cell_type": "code",
   "execution_count": 62,
   "id": "f18fe346-c716-4bc4-8860-3305213cd41d",
   "metadata": {},
   "outputs": [],
   "source": [
    "#calculate the percentage of your 10th mark"
   ]
  },
  {
   "cell_type": "code",
   "execution_count": 72,
   "id": "27f8de39-97e5-43b8-86ed-34f53fda8748",
   "metadata": {},
   "outputs": [],
   "source": [
    "class FindPercent():\n",
    "    def percentage():\n",
    "        subject1 = int(input(\"Enter marks for Subject1: \"))\n",
    "        subject2 = int(input(\"Enter marks for Subject2: \"))\n",
    "        subject3 = int(input(\"Enter marks for Subject3: \"))\n",
    "        subject4 = int(input(\"Enter marks for Subject4: \"))\n",
    "        subject5 = int(input(\"Enter marks for Subject5: \"))\n",
    "        total = subject1 + subject2 + subject3 + subject4 + subject5\n",
    "        percentage = (total / 500) * 100\n",
    "        print(\"Subject1=\",subject1)\n",
    "        print(\"Subject2=\",subject2)\n",
    "        print(\"Subject3=\",subject3)\n",
    "        print(\"Subject4=\",subject4)\n",
    "        print(\"Subject5=\",subject5)\n",
    "        print(\"Total : \",total)\n",
    "        print(\"Percentage : \",percentage) \n",
    "    "
   ]
  },
  {
   "cell_type": "code",
   "execution_count": 74,
   "id": "4cd901d2-644e-4a0a-a8a7-14d990051afc",
   "metadata": {},
   "outputs": [
    {
     "name": "stdin",
     "output_type": "stream",
     "text": [
      "Enter marks for Subject1:  98\n",
      "Enter marks for Subject2:  87\n",
      "Enter marks for Subject3:  95\n",
      "Enter marks for Subject4:  95\n",
      "Enter marks for Subject5:  93\n"
     ]
    },
    {
     "name": "stdout",
     "output_type": "stream",
     "text": [
      "Subject1= 98\n",
      "Subject2= 87\n",
      "Subject3= 95\n",
      "Subject4= 95\n",
      "Subject5= 93\n",
      "Total :  468\n",
      "Percentage :  93.60000000000001\n"
     ]
    }
   ],
   "source": [
    "FindPercent.percentage()"
   ]
  },
  {
   "cell_type": "code",
   "execution_count": 76,
   "id": "b3ca617b-7c03-4712-9d03-8dc9af0a16d6",
   "metadata": {},
   "outputs": [],
   "source": [
    "#print area and perimeter of triangle using class and functions"
   ]
  },
  {
   "cell_type": "code",
   "execution_count": 84,
   "id": "7cdc6295-eeec-4878-a6ff-1df1a043d4b7",
   "metadata": {},
   "outputs": [],
   "source": [
    "class triangle:\n",
    "    def triangle():\n",
    "        Height = int(input(\"Height:\"))\n",
    "        Breadth = int(input(\"Breadth:\"))\n",
    "        Area_triangle = (Height*Breadth)/2\n",
    "        print(\"Area formula: (Height*Breadth)/2\")\n",
    "        print(\"Area of Triangle:\",Area_triangle)\n",
    "        Height1 = int(input(\"Height1:\"))\n",
    "        Height2 = int(input(\"Height2:\"))\n",
    "        Breadth = int(input(\"Breadth:\"))\n",
    "        Perimeter_triangle = Height1+Height2+Breadth\n",
    "        print(\"Perimeter formula: Height1+Height2+Breadth\")\n",
    "        print(\"Perimeter of Triangle:\",Perimeter_triangle)"
   ]
  },
  {
   "cell_type": "code",
   "execution_count": 86,
   "id": "29f9b6e2-20dc-4228-9788-198b97c23672",
   "metadata": {},
   "outputs": [
    {
     "name": "stdin",
     "output_type": "stream",
     "text": [
      "Height: 32\n",
      "Breadth: 34\n"
     ]
    },
    {
     "name": "stdout",
     "output_type": "stream",
     "text": [
      "Area formula: (Height*Breadth)/2\n",
      "Area of Triangle: 544.0\n"
     ]
    },
    {
     "name": "stdin",
     "output_type": "stream",
     "text": [
      "Height1: 2\n",
      "Height2: 4\n",
      "Breadth: 4\n"
     ]
    },
    {
     "name": "stdout",
     "output_type": "stream",
     "text": [
      "Perimeter formula: Height1+Height2+Breadth\n",
      "Perimeter of Triangle: 10\n"
     ]
    }
   ],
   "source": [
    "triangle.triangle()"
   ]
  },
  {
   "cell_type": "code",
   "execution_count": null,
   "id": "c035980e-ffc2-44e7-887e-62c849223bc0",
   "metadata": {},
   "outputs": [],
   "source": []
  }
 ],
 "metadata": {
  "kernelspec": {
   "display_name": "Python [conda env:base] *",
   "language": "python",
   "name": "conda-base-py"
  },
  "language_info": {
   "codemirror_mode": {
    "name": "ipython",
    "version": 3
   },
   "file_extension": ".py",
   "mimetype": "text/x-python",
   "name": "python",
   "nbconvert_exporter": "python",
   "pygments_lexer": "ipython3",
   "version": "3.12.7"
  }
 },
 "nbformat": 4,
 "nbformat_minor": 5
}
