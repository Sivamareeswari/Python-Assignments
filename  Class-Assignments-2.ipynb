{
 "cells": [
  {
   "cell_type": "code",
   "execution_count": 1,
   "id": "428c2926-835f-4cb8-a435-98e7efdf6bc1",
   "metadata": {},
   "outputs": [],
   "source": [
    "from basicfunctions2 import differentfunctions"
   ]
  },
  {
   "cell_type": "code",
   "execution_count": 3,
   "id": "cb8d6757-bf00-4c61-9187-4fc15b53f58c",
   "metadata": {},
   "outputs": [
    {
     "name": "stdout",
     "output_type": "stream",
     "text": [
      "Sub-fields in AI are:\n",
      "Machine Learning\n",
      "Neural Networks\n",
      "Vision\n",
      "Robotics\n",
      "Speech Processing\n",
      "Natural Language Processing\n"
     ]
    }
   ],
   "source": [
    "differentfunctions.Subfields()"
   ]
  },
  {
   "cell_type": "code",
   "execution_count": 5,
   "id": "8bb0aa81-0398-40ce-bb54-3f5ea2e34396",
   "metadata": {},
   "outputs": [
    {
     "name": "stdin",
     "output_type": "stream",
     "text": [
      "Enter a number: 88\n"
     ]
    },
    {
     "name": "stdout",
     "output_type": "stream",
     "text": [
      "88 is Even number\n"
     ]
    }
   ],
   "source": [
    "differentfunctions.OddEven()"
   ]
  },
  {
   "cell_type": "code",
   "execution_count": 7,
   "id": "62455abb-f99e-4481-94dd-01e7dbfad3bf",
   "metadata": {},
   "outputs": [
    {
     "name": "stdin",
     "output_type": "stream",
     "text": [
      "Your Gender(male/female): female\n",
      "your Age: 17\n"
     ]
    },
    {
     "name": "stdout",
     "output_type": "stream",
     "text": [
      "NOT ELIGIBLE\n"
     ]
    }
   ],
   "source": [
    "differentfunctions.Eligible()"
   ]
  },
  {
   "cell_type": "code",
   "execution_count": 9,
   "id": "32291813-e738-42f6-a8ff-ce9a5f3ce7c2",
   "metadata": {},
   "outputs": [
    {
     "name": "stdin",
     "output_type": "stream",
     "text": [
      "Enter marks for Subject1:  99\n",
      "Enter marks for Subject2:  89\n",
      "Enter marks for Subject3:  97\n",
      "Enter marks for Subject4:  69\n",
      "Enter marks for Subject5:  80\n"
     ]
    },
    {
     "name": "stdout",
     "output_type": "stream",
     "text": [
      "Subject1= 99\n",
      "Subject2= 89\n",
      "Subject3= 97\n",
      "Subject4= 69\n",
      "Subject5= 80\n",
      "Total :  434\n",
      "Percentage :  86.8\n"
     ]
    }
   ],
   "source": [
    "differentfunctions.percentage()"
   ]
  },
  {
   "cell_type": "code",
   "execution_count": 11,
   "id": "59be0397-a431-456e-a497-e3a09e5ad6f5",
   "metadata": {},
   "outputs": [
    {
     "name": "stdin",
     "output_type": "stream",
     "text": [
      "Height: 80\n",
      "Breadth: 70\n"
     ]
    },
    {
     "name": "stdout",
     "output_type": "stream",
     "text": [
      "Area formula: (Height*Breadth)/2\n",
      "Area of Triangle: 2800.0\n"
     ]
    },
    {
     "name": "stdin",
     "output_type": "stream",
     "text": [
      "Height1: 15\n",
      "Height2: 20\n",
      "Breadth: 80\n"
     ]
    },
    {
     "name": "stdout",
     "output_type": "stream",
     "text": [
      "Perimeter formula: Height1+Height2+Breadth\n",
      "Perimeter of Triangle: 115\n"
     ]
    }
   ],
   "source": [
    "differentfunctions.triangle()"
   ]
  }
 ],
 "metadata": {
  "kernelspec": {
   "display_name": "Python [conda env:base] *",
   "language": "python",
   "name": "conda-base-py"
  },
  "language_info": {
   "codemirror_mode": {
    "name": "ipython",
    "version": 3
   },
   "file_extension": ".py",
   "mimetype": "text/x-python",
   "name": "python",
   "nbconvert_exporter": "python",
   "pygments_lexer": "ipython3",
   "version": "3.12.7"
  }
 },
 "nbformat": 4,
 "nbformat_minor": 5
}
